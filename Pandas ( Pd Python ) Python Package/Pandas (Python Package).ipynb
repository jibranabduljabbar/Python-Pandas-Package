{
 "cells": [
  {
   "cell_type": "code",
   "execution_count": 4,
   "id": "09289928",
   "metadata": {},
   "outputs": [],
   "source": [
    "# What Is Pandas?"
   ]
  },
  {
   "cell_type": "code",
   "execution_count": 5,
   "id": "94085573",
   "metadata": {},
   "outputs": [],
   "source": [
    "# Pandas is one of the most popular data science libraries in Python. Easy to use,\n",
    "# it is built on top of NumPy and shares many functions and properties.\n",
    "\n",
    "# With Pandas, you can read and extract data from files, transform and analyze it,\n",
    "# calculate statistics and correlations, and much more!\n",
    "\n",
    "# To start using pandas, we need to import it first:"
   ]
  },
  {
   "cell_type": "code",
   "execution_count": 6,
   "id": "744365bc",
   "metadata": {},
   "outputs": [],
   "source": [
    "import pandas as pd"
   ]
  },
  {
   "cell_type": "code",
   "execution_count": 7,
   "id": "4b13a65e",
   "metadata": {},
   "outputs": [],
   "source": [
    "# pd is a common short name used when importing the library."
   ]
  },
  {
   "cell_type": "code",
   "execution_count": 8,
   "id": "77b2d65f",
   "metadata": {},
   "outputs": [],
   "source": [
    "# Pandas is derived from the term \"panel data\",\n",
    "# an econometrics term for data sets that include observations over multiple time periods for the same individuals."
   ]
  },
  {
   "cell_type": "code",
   "execution_count": 9,
   "id": "d429d19d",
   "metadata": {},
   "outputs": [],
   "source": [
    "# Series & DataFrames:"
   ]
  },
  {
   "cell_type": "code",
   "execution_count": 10,
   "id": "a2dba361",
   "metadata": {},
   "outputs": [],
   "source": [
    "# The two primary components of pandas are the Series and the DataFrame.\n",
    "\n",
    "# A Series is essentially a column, and a DataFrame is a multi-dimensional table made up of a collection of Series.\n",
    "\n",
    "# For example, the following DataFrame is made of two Series, ages and heights"
   ]
  },
  {
   "cell_type": "markdown",
   "id": "0743e001",
   "metadata": {},
   "source": [
    "<img src=\"https://api.sololearn.com/DownloadFile?id=4554\"/>"
   ]
  },
  {
   "cell_type": "code",
   "execution_count": 11,
   "id": "3551d6b0",
   "metadata": {},
   "outputs": [],
   "source": [
    "# You can think of a Series as a one-dimensional array, while a DataFrame is a multi-dimensional array."
   ]
  },
  {
   "cell_type": "code",
   "execution_count": 12,
   "id": "54792b3e",
   "metadata": {},
   "outputs": [],
   "source": [
    "# DataFrames"
   ]
  },
  {
   "cell_type": "code",
   "execution_count": 13,
   "id": "d64ff04d",
   "metadata": {},
   "outputs": [],
   "source": [
    "# Before working with real data, let's first create a DataFrame manually to explore its functions.\n",
    "# The easiest way to create a DataFrame is using a dictionary:"
   ]
  },
  {
   "cell_type": "code",
   "execution_count": 14,
   "id": "f9c69d60",
   "metadata": {},
   "outputs": [],
   "source": [
    "data = {\n",
    "    'ages': [14, 18, 24, 42],\n",
    "    'height': [165, 180, 176, 184],\n",
    "}"
   ]
  },
  {
   "cell_type": "code",
   "execution_count": 15,
   "id": "23ebcb78",
   "metadata": {},
   "outputs": [],
   "source": [
    "# Each key is a column, while the value is an array representing the data for that column.\n",
    "\n",
    "# Now, we can pass this dictionary to the DataFrame constructor:"
   ]
  },
  {
   "cell_type": "code",
   "execution_count": 16,
   "id": "dff4bcc4",
   "metadata": {},
   "outputs": [],
   "source": [
    "df = pd.DataFrame(data);"
   ]
  },
  {
   "cell_type": "code",
   "execution_count": 17,
   "id": "8dc78b5a",
   "metadata": {},
   "outputs": [],
   "source": [
    "# Run the code to see the resulting DataFrame."
   ]
  },
  {
   "cell_type": "code",
   "execution_count": 18,
   "id": "479d6fb5",
   "metadata": {},
   "outputs": [
    {
     "name": "stdout",
     "output_type": "stream",
     "text": [
      "   ages  height\n",
      "0    14     165\n",
      "1    18     180\n",
      "2    24     176\n",
      "3    42     184\n"
     ]
    }
   ],
   "source": [
    "print(df)"
   ]
  },
  {
   "cell_type": "code",
   "execution_count": 19,
   "id": "e0daab56",
   "metadata": {},
   "outputs": [],
   "source": [
    "# The DataFrame automatically creates a numeric index for each row.\n",
    "# We can specify a custom index, when creating the DataFrame:"
   ]
  },
  {
   "cell_type": "code",
   "execution_count": 20,
   "id": "00af444f",
   "metadata": {},
   "outputs": [],
   "source": [
    "df = pd.DataFrame(data, index=[1, 2, 3, 4])"
   ]
  },
  {
   "cell_type": "code",
   "execution_count": 21,
   "id": "53867a2f",
   "metadata": {},
   "outputs": [
    {
     "name": "stdout",
     "output_type": "stream",
     "text": [
      "   ages  height\n",
      "1    14     165\n",
      "2    18     180\n",
      "3    24     176\n",
      "4    42     184\n"
     ]
    }
   ],
   "source": [
    "print(df)"
   ]
  },
  {
   "cell_type": "code",
   "execution_count": 22,
   "id": "3bd9e775",
   "metadata": {},
   "outputs": [],
   "source": [
    "# Now we can access a row using its index and the loc[] function:"
   ]
  },
  {
   "cell_type": "code",
   "execution_count": 23,
   "id": "e5b7482c",
   "metadata": {},
   "outputs": [
    {
     "name": "stdout",
     "output_type": "stream",
     "text": [
      "ages       18\n",
      "height    180\n",
      "Name: 2, dtype: int64\n"
     ]
    }
   ],
   "source": [
    "print(df.loc[2])"
   ]
  },
  {
   "cell_type": "code",
   "execution_count": 24,
   "id": "d2662fd7",
   "metadata": {},
   "outputs": [],
   "source": [
    "# This will output the row that corresponds to the index \"2\"."
   ]
  },
  {
   "cell_type": "code",
   "execution_count": 25,
   "id": "580764b0",
   "metadata": {},
   "outputs": [],
   "source": [
    "# Note, that loc uses square brackets to specify the index."
   ]
  },
  {
   "cell_type": "code",
   "execution_count": 26,
   "id": "033cd920",
   "metadata": {},
   "outputs": [],
   "source": [
    "# Indexing: "
   ]
  },
  {
   "cell_type": "code",
   "execution_count": 27,
   "id": "4db195ed",
   "metadata": {},
   "outputs": [],
   "source": [
    "# We can select a single column by specifying its name in square brackets:"
   ]
  },
  {
   "cell_type": "code",
   "execution_count": 28,
   "id": "42555b72",
   "metadata": {},
   "outputs": [
    {
     "name": "stdout",
     "output_type": "stream",
     "text": [
      "1    14\n",
      "2    18\n",
      "3    24\n",
      "4    42\n",
      "Name: ages, dtype: int64\n"
     ]
    }
   ],
   "source": [
    "print(df[\"ages\"])"
   ]
  },
  {
   "cell_type": "code",
   "execution_count": 29,
   "id": "2818a19a",
   "metadata": {},
   "outputs": [],
   "source": [
    "# The result is a Series object."
   ]
  },
  {
   "cell_type": "code",
   "execution_count": 30,
   "id": "208bf949",
   "metadata": {},
   "outputs": [],
   "source": [
    "# If we want to select multiple columns, we can specify a list of column names:"
   ]
  },
  {
   "cell_type": "code",
   "execution_count": 31,
   "id": "02eab000",
   "metadata": {},
   "outputs": [
    {
     "name": "stdout",
     "output_type": "stream",
     "text": [
      "   ages  height\n",
      "1    14     165\n",
      "2    18     180\n",
      "3    24     176\n",
      "4    42     184\n"
     ]
    }
   ],
   "source": [
    "print(df[[\"ages\", \"height\"]])"
   ]
  },
  {
   "cell_type": "code",
   "execution_count": 32,
   "id": "dc2d0679",
   "metadata": {},
   "outputs": [],
   "source": [
    "# This time, the result is a DataFrame, as it includes multiple columns."
   ]
  },
  {
   "cell_type": "code",
   "execution_count": 33,
   "id": "71017b25",
   "metadata": {},
   "outputs": [],
   "source": [
    "# This is useful, when we need to select only a part of the columns from the dataset."
   ]
  },
  {
   "cell_type": "code",
   "execution_count": 34,
   "id": "1c8705ec",
   "metadata": {},
   "outputs": [],
   "source": [
    "# Slicing: "
   ]
  },
  {
   "cell_type": "code",
   "execution_count": 35,
   "id": "0ffbb508",
   "metadata": {},
   "outputs": [],
   "source": [
    "# Pandas uses the iloc function to select data based on its numeric index.\n",
    "# It works the same way indexing lists does in Python."
   ]
  },
  {
   "cell_type": "code",
   "execution_count": 36,
   "id": "5f6831ea",
   "metadata": {},
   "outputs": [],
   "source": [
    "# third row:"
   ]
  },
  {
   "cell_type": "code",
   "execution_count": 37,
   "id": "9cd92d9f",
   "metadata": {},
   "outputs": [
    {
     "name": "stdout",
     "output_type": "stream",
     "text": [
      "ages       24\n",
      "height    176\n",
      "Name: 3, dtype: int64\n"
     ]
    }
   ],
   "source": [
    "print(df.iloc[2])"
   ]
  },
  {
   "cell_type": "code",
   "execution_count": 38,
   "id": "de3c8603",
   "metadata": {},
   "outputs": [],
   "source": [
    "# first three rows:"
   ]
  },
  {
   "cell_type": "code",
   "execution_count": 39,
   "id": "8fb196de",
   "metadata": {},
   "outputs": [
    {
     "name": "stdout",
     "output_type": "stream",
     "text": [
      "   ages  height\n",
      "1    14     165\n",
      "2    18     180\n",
      "3    24     176\n"
     ]
    }
   ],
   "source": [
    "print(df.iloc[:3])"
   ]
  },
  {
   "cell_type": "code",
   "execution_count": 40,
   "id": "ed62b4be",
   "metadata": {},
   "outputs": [
    {
     "name": "stdout",
     "output_type": "stream",
     "text": [
      "   ages  height\n",
      "2    18     180\n",
      "3    24     176\n"
     ]
    }
   ],
   "source": [
    "print(df.iloc[1:3])"
   ]
  },
  {
   "cell_type": "code",
   "execution_count": 41,
   "id": "70cd0f95",
   "metadata": {},
   "outputs": [],
   "source": [
    "# iloc follows the same rules as slicing does with Python lists."
   ]
  },
  {
   "cell_type": "code",
   "execution_count": 42,
   "id": "b421f1ce",
   "metadata": {},
   "outputs": [],
   "source": [
    "# Conditions: "
   ]
  },
  {
   "cell_type": "code",
   "execution_count": 43,
   "id": "9b550122",
   "metadata": {},
   "outputs": [],
   "source": [
    "# We can also select the data based on a condition.\n",
    "# For example, let's select all rows where age is greater than 18 and height is greater than 180:"
   ]
  },
  {
   "cell_type": "code",
   "execution_count": 44,
   "id": "030e7392",
   "metadata": {},
   "outputs": [
    {
     "name": "stdout",
     "output_type": "stream",
     "text": [
      "   ages  height\n",
      "4    42     184\n"
     ]
    }
   ],
   "source": [
    "print(df[(df[\"ages\"] > 18) & (df[\"height\"] > 180)])"
   ]
  },
  {
   "cell_type": "code",
   "execution_count": 45,
   "id": "13cc8688",
   "metadata": {},
   "outputs": [],
   "source": [
    "# Similarly, the or | operator can be used to combine conditions."
   ]
  },
  {
   "cell_type": "code",
   "execution_count": 46,
   "id": "aa25b6b7",
   "metadata": {},
   "outputs": [],
   "source": [
    "# Reading Data: "
   ]
  },
  {
   "cell_type": "code",
   "execution_count": 47,
   "id": "2da1f54a",
   "metadata": {},
   "outputs": [],
   "source": [
    "# It is quite common for data to come in a file format. One of the most popular formats is the CSV (comma-separated values).\n",
    "# Pandas supports reading data from a CSV file directly into a DataFrame.\n",
    "\n",
    "# For our examples, we will use a CSV file that contains the COVID-19 infection data in California for the year 2020, called 'ca-covid.csv'.\n",
    "\n",
    "# The read_csv() function reads the data of a CSV file into a DataFrame:"
   ]
  },
  {
   "cell_type": "code",
   "execution_count": 48,
   "id": "c122122e",
   "metadata": {},
   "outputs": [],
   "source": [
    "df = pd.read_csv(\"C:/Users/User/Downloads/prac.csv\")"
   ]
  },
  {
   "cell_type": "code",
   "execution_count": 49,
   "id": "825b2101",
   "metadata": {},
   "outputs": [
    {
     "name": "stdout",
     "output_type": "stream",
     "text": [
      "    Name:  Roll No:         Education:          City:  Gender:       Date:  \\\n",
      "0    Mark      1876         SCC-Part 1         Karachi    Male  16-12-2021   \n",
      "1     Ace      1877         SSC-Part 2       Hyderabad    Male  16-12-2021   \n",
      "2   Myers      1878           BA-Part2          Lahore    Male  16-12-2021   \n",
      "3   Joker      1879           BA-Part1       Islamabad    Male  16-12-2021   \n",
      "4    Umer      1880         University          Punjab    Male  16-12-2021   \n",
      "5    Emma      1881                 CA           Dubai  Female  16-12-2021   \n",
      "6    Liam      1882            Bachlar       Hong Kong    Male  16-12-2021   \n",
      "7   James      1883    Web Development  FaisalabadMale     NaN  16-12-2021   \n",
      "8  Elijah      1884  Android Developer       Nazamabad    Male  16-12-2021   \n",
      "\n",
      "     Month:  Cases:  \n",
      "0      June       2  \n",
      "1  February       3  \n",
      "2     March       4  \n",
      "3     April      23  \n",
      "4       May      42  \n",
      "5      June      32  \n",
      "6      July       3  \n",
      "7  February       3  \n",
      "8      June      12  \n"
     ]
    }
   ],
   "source": [
    "print(df)"
   ]
  },
  {
   "cell_type": "code",
   "execution_count": 50,
   "id": "b2ec0443",
   "metadata": {},
   "outputs": [],
   "source": [
    "# We need to provide the file path to the read_csv() function."
   ]
  },
  {
   "cell_type": "code",
   "execution_count": 51,
   "id": "7419c760",
   "metadata": {},
   "outputs": [],
   "source": [
    "# Pandas also supports reading from JSON files, as well as SQL databases."
   ]
  },
  {
   "cell_type": "code",
   "execution_count": 52,
   "id": "573618dc",
   "metadata": {},
   "outputs": [],
   "source": [
    "# Once we have the data in a DataFrame, we can start exploring it.\n",
    "# We can get the first rows of the data using the head() function of the DataFrame:"
   ]
  },
  {
   "cell_type": "code",
   "execution_count": 53,
   "id": "fc51ef8b",
   "metadata": {},
   "outputs": [
    {
     "name": "stdout",
     "output_type": "stream",
     "text": [
      "   Name:  Roll No:  Education:     City:  Gender:       Date:    Month:  \\\n",
      "0   Mark      1876  SCC-Part 1    Karachi    Male  16-12-2021      June   \n",
      "1    Ace      1877  SSC-Part 2  Hyderabad    Male  16-12-2021  February   \n",
      "2  Myers      1878    BA-Part2     Lahore    Male  16-12-2021     March   \n",
      "3  Joker      1879    BA-Part1  Islamabad    Male  16-12-2021     April   \n",
      "4   Umer      1880  University     Punjab    Male  16-12-2021       May   \n",
      "\n",
      "   Cases:  \n",
      "0       2  \n",
      "1       3  \n",
      "2       4  \n",
      "3      23  \n",
      "4      42  \n"
     ]
    }
   ],
   "source": [
    "print(df.head())"
   ]
  },
  {
   "cell_type": "code",
   "execution_count": 54,
   "id": "520d028f",
   "metadata": {},
   "outputs": [],
   "source": [
    "# By default it returns the first 5 rows. You can instruct it to return the number\n",
    "# of rows you would like as an argument (for example, df.head(10) will return the first 10 rows)."
   ]
  },
  {
   "cell_type": "code",
   "execution_count": 55,
   "id": "d0e42bbd",
   "metadata": {},
   "outputs": [
    {
     "name": "stdout",
     "output_type": "stream",
     "text": [
      "  Name:  Roll No:  Education:     City:  Gender:       Date:    Month:  Cases:\n",
      "0  Mark      1876  SCC-Part 1    Karachi    Male  16-12-2021      June       2\n",
      "1   Ace      1877  SSC-Part 2  Hyderabad    Male  16-12-2021  February       3\n"
     ]
    }
   ],
   "source": [
    "print(df.head(2))"
   ]
  },
  {
   "cell_type": "code",
   "execution_count": 56,
   "id": "508abbe8",
   "metadata": {},
   "outputs": [],
   "source": [
    "# We can see that our DataFrame contains the date, state, number of cases and deaths for that date."
   ]
  },
  {
   "cell_type": "code",
   "execution_count": 57,
   "id": "2160679c",
   "metadata": {},
   "outputs": [],
   "source": [
    "# Similarly, you can get the last rows using the tail() function. For Example: "
   ]
  },
  {
   "cell_type": "code",
   "execution_count": 58,
   "id": "4ee16bf9",
   "metadata": {},
   "outputs": [
    {
     "name": "stdout",
     "output_type": "stream",
     "text": [
      "    Name:  Roll No:         Education:          City:  Gender:       Date:  \\\n",
      "4    Umer      1880         University          Punjab    Male  16-12-2021   \n",
      "5    Emma      1881                 CA           Dubai  Female  16-12-2021   \n",
      "6    Liam      1882            Bachlar       Hong Kong    Male  16-12-2021   \n",
      "7   James      1883    Web Development  FaisalabadMale     NaN  16-12-2021   \n",
      "8  Elijah      1884  Android Developer       Nazamabad    Male  16-12-2021   \n",
      "\n",
      "     Month:  Cases:  \n",
      "4       May      42  \n",
      "5      June      32  \n",
      "6      July       3  \n",
      "7  February       3  \n",
      "8      June      12  \n"
     ]
    }
   ],
   "source": [
    "print(df.tail())"
   ]
  },
  {
   "cell_type": "code",
   "execution_count": 59,
   "id": "9222a70f",
   "metadata": {},
   "outputs": [
    {
     "name": "stdout",
     "output_type": "stream",
     "text": [
      "    Name:  Roll No:         Education:          City:  Gender:       Date:  \\\n",
      "7   James      1883    Web Development  FaisalabadMale     NaN  16-12-2021   \n",
      "8  Elijah      1884  Android Developer       Nazamabad    Male  16-12-2021   \n",
      "\n",
      "     Month:  Cases:  \n",
      "7  February       3  \n",
      "8      June      12  \n"
     ]
    }
   ],
   "source": [
    "print(df.tail(2))"
   ]
  },
  {
   "cell_type": "code",
   "execution_count": 60,
   "id": "cf9cdb79",
   "metadata": {},
   "outputs": [],
   "source": [
    "# The info() function is used to get essential information about your dataset,\n",
    "# such as number of rows, columns, data types, etc:"
   ]
  },
  {
   "cell_type": "code",
   "execution_count": 61,
   "id": "659f1cb9",
   "metadata": {},
   "outputs": [
    {
     "name": "stdout",
     "output_type": "stream",
     "text": [
      "<class 'pandas.core.frame.DataFrame'>\n",
      "RangeIndex: 9 entries, 0 to 8\n",
      "Data columns (total 8 columns):\n",
      " #   Column      Non-Null Count  Dtype \n",
      "---  ------      --------------  ----- \n",
      " 0   Name:       9 non-null      object\n",
      " 1   Roll No:    9 non-null      int64 \n",
      " 2   Education:  9 non-null      object\n",
      " 3   City:       9 non-null      object\n",
      " 4   Gender:     8 non-null      object\n",
      " 5   Date:       9 non-null      object\n",
      " 6   Month:      9 non-null      object\n",
      " 7   Cases:      9 non-null      int64 \n",
      "dtypes: int64(2), object(6)\n",
      "memory usage: 704.0+ bytes\n",
      "None\n"
     ]
    }
   ],
   "source": [
    "print(df.info())"
   ]
  },
  {
   "cell_type": "code",
   "execution_count": 62,
   "id": "afebdbbf",
   "metadata": {},
   "outputs": [],
   "source": [
    "# Run the code to see the result!"
   ]
  },
  {
   "cell_type": "code",
   "execution_count": 63,
   "id": "e4bc2b11",
   "metadata": {},
   "outputs": [],
   "source": [
    "# From the result, we can see that our dataset contains 9 rows and 5 columns: Name:, Roll No:, Education:, City:, Gender:.\n",
    "\n",
    "# We also see that Pandas has added an auto generated index.\n",
    "# We can set our own index column by using the set_index() function:"
   ]
  },
  {
   "cell_type": "code",
   "execution_count": 64,
   "id": "a769d3f8",
   "metadata": {},
   "outputs": [],
   "source": [
    "df.set_index(\"Roll No:\", inplace=True)"
   ]
  },
  {
   "cell_type": "code",
   "execution_count": 65,
   "id": "d3df2e59",
   "metadata": {},
   "outputs": [
    {
     "name": "stdout",
     "output_type": "stream",
     "text": [
      "           Name:         Education:          City:  Gender:       Date:  \\\n",
      "Roll No:                                                                  \n",
      "1876        Mark         SCC-Part 1         Karachi    Male  16-12-2021   \n",
      "1877         Ace         SSC-Part 2       Hyderabad    Male  16-12-2021   \n",
      "1878       Myers           BA-Part2          Lahore    Male  16-12-2021   \n",
      "1879       Joker           BA-Part1       Islamabad    Male  16-12-2021   \n",
      "1880        Umer         University          Punjab    Male  16-12-2021   \n",
      "1881        Emma                 CA           Dubai  Female  16-12-2021   \n",
      "1882        Liam            Bachlar       Hong Kong    Male  16-12-2021   \n",
      "1883       James    Web Development  FaisalabadMale     NaN  16-12-2021   \n",
      "1884      Elijah  Android Developer       Nazamabad    Male  16-12-2021   \n",
      "\n",
      "            Month:  Cases:  \n",
      "Roll No:                    \n",
      "1876          June       2  \n",
      "1877      February       3  \n",
      "1878         March       4  \n",
      "1879         April      23  \n",
      "1880           May      42  \n",
      "1881          June      32  \n",
      "1882          July       3  \n",
      "1883      February       3  \n",
      "1884          June      12  \n"
     ]
    }
   ],
   "source": [
    "print(df)"
   ]
  },
  {
   "cell_type": "code",
   "execution_count": 66,
   "id": "13c690a4",
   "metadata": {},
   "outputs": [],
   "source": [
    "# The Roll No column is a good choice for our index, as there is one row for each Roll No."
   ]
  },
  {
   "cell_type": "code",
   "execution_count": 67,
   "id": "73dcfffb",
   "metadata": {},
   "outputs": [],
   "source": [
    "# The inplace=True argument specifies that the change will be applied to our DataFrame,\n",
    "# without the need to assign it to a new DataFrame variable."
   ]
  },
  {
   "cell_type": "code",
   "execution_count": 68,
   "id": "6eae0092",
   "metadata": {},
   "outputs": [],
   "source": [
    "# Dropping a Column: "
   ]
  },
  {
   "cell_type": "code",
   "execution_count": 69,
   "id": "e1455431",
   "metadata": {},
   "outputs": [],
   "source": [
    "# Since our data is only for the state of California, we can remove that column from our DataFrame, \n",
    "# as it contains the same value for all rows:"
   ]
  },
  {
   "cell_type": "code",
   "execution_count": 70,
   "id": "da31441e",
   "metadata": {},
   "outputs": [],
   "source": [
    "# Remove Columns Using Column Name."
   ]
  },
  {
   "cell_type": "code",
   "execution_count": 71,
   "id": "28d73622",
   "metadata": {},
   "outputs": [],
   "source": [
    "df.drop(\"Name:\", axis=1, inplace=True)"
   ]
  },
  {
   "cell_type": "code",
   "execution_count": 72,
   "id": "cecef3ad",
   "metadata": {},
   "outputs": [
    {
     "name": "stdout",
     "output_type": "stream",
     "text": [
      "                 Education:          City:  Gender:       Date:    Month:  \\\n",
      "Roll No:                                                                    \n",
      "1876             SCC-Part 1         Karachi    Male  16-12-2021      June   \n",
      "1877             SSC-Part 2       Hyderabad    Male  16-12-2021  February   \n",
      "1878               BA-Part2          Lahore    Male  16-12-2021     March   \n",
      "1879               BA-Part1       Islamabad    Male  16-12-2021     April   \n",
      "1880             University          Punjab    Male  16-12-2021       May   \n",
      "1881                     CA           Dubai  Female  16-12-2021      June   \n",
      "1882                Bachlar       Hong Kong    Male  16-12-2021      July   \n",
      "1883        Web Development  FaisalabadMale     NaN  16-12-2021  February   \n",
      "1884      Android Developer       Nazamabad    Male  16-12-2021      June   \n",
      "\n",
      "          Cases:  \n",
      "Roll No:          \n",
      "1876           2  \n",
      "1877           3  \n",
      "1878           4  \n",
      "1879          23  \n",
      "1880          42  \n",
      "1881          32  \n",
      "1882           3  \n",
      "1883           3  \n",
      "1884          12  \n"
     ]
    }
   ],
   "source": [
    "print(df)"
   ]
  },
  {
   "cell_type": "code",
   "execution_count": 73,
   "id": "39d2284a",
   "metadata": {},
   "outputs": [],
   "source": [
    "# drop() deletes rows and columns.\n",
    "# axis=1 specifies that we want to drop a column.\n",
    "# axis=0 will drop a row."
   ]
  },
  {
   "cell_type": "code",
   "execution_count": 74,
   "id": "93ff4e87",
   "metadata": {},
   "outputs": [],
   "source": [
    "# Remove Rows Using Index Value"
   ]
  },
  {
   "cell_type": "code",
   "execution_count": 75,
   "id": "50c1ccaf",
   "metadata": {},
   "outputs": [],
   "source": [
    "df.drop(1878, axis=0, inplace=True)"
   ]
  },
  {
   "cell_type": "code",
   "execution_count": 76,
   "id": "9b12b9f7",
   "metadata": {},
   "outputs": [
    {
     "name": "stdout",
     "output_type": "stream",
     "text": [
      "                 Education:          City:  Gender:       Date:    Month:  \\\n",
      "Roll No:                                                                    \n",
      "1876             SCC-Part 1         Karachi    Male  16-12-2021      June   \n",
      "1877             SSC-Part 2       Hyderabad    Male  16-12-2021  February   \n",
      "1879               BA-Part1       Islamabad    Male  16-12-2021     April   \n",
      "1880             University          Punjab    Male  16-12-2021       May   \n",
      "1881                     CA           Dubai  Female  16-12-2021      June   \n",
      "1882                Bachlar       Hong Kong    Male  16-12-2021      July   \n",
      "1883        Web Development  FaisalabadMale     NaN  16-12-2021  February   \n",
      "1884      Android Developer       Nazamabad    Male  16-12-2021      June   \n",
      "\n",
      "          Cases:  \n",
      "Roll No:          \n",
      "1876           2  \n",
      "1877           3  \n",
      "1879          23  \n",
      "1880          42  \n",
      "1881          32  \n",
      "1882           3  \n",
      "1883           3  \n",
      "1884          12  \n"
     ]
    }
   ],
   "source": [
    "print(df)"
   ]
  },
  {
   "cell_type": "code",
   "execution_count": 77,
   "id": "1ad71f34",
   "metadata": {},
   "outputs": [],
   "source": [
    "# Now our dataset is much cleaner: we have a Roll No index, and Others columns."
   ]
  },
  {
   "cell_type": "code",
   "execution_count": 78,
   "id": "0d524ef0",
   "metadata": {},
   "outputs": [],
   "source": [
    "# Creating Columns: "
   ]
  },
  {
   "cell_type": "code",
   "execution_count": 79,
   "id": "633fb63c",
   "metadata": {},
   "outputs": [],
   "source": [
    "# Pandas allows us to create our own columns."
   ]
  },
  {
   "cell_type": "code",
   "execution_count": 80,
   "id": "85d5323e",
   "metadata": {},
   "outputs": [],
   "source": [
    "# For example, we can add a month column based on the date column:"
   ]
  },
  {
   "cell_type": "code",
   "execution_count": 99,
   "id": "16d19c5b",
   "metadata": {},
   "outputs": [],
   "source": [
    "df['month'] = pd.to_datetime(df[\"date\"],format=\"%d.%m.%y\").dt.month_name()"
   ]
  },
  {
   "cell_type": "code",
   "execution_count": null,
   "id": "3b2f89e5",
   "metadata": {},
   "outputs": [],
   "source": [
    "# We do this by converting the date column to datetime and extracting the month name from it,\n",
    "# assigning the value to our new month column."
   ]
  },
  {
   "cell_type": "code",
   "execution_count": 82,
   "id": "6fca77e3",
   "metadata": {},
   "outputs": [],
   "source": [
    "# Our date is in DD.MM.YY format, which is why we need to specify the format attribute."
   ]
  },
  {
   "cell_type": "code",
   "execution_count": 83,
   "id": "0d9cc569",
   "metadata": {},
   "outputs": [],
   "source": [
    "# Summary Statistics:"
   ]
  },
  {
   "cell_type": "code",
   "execution_count": 84,
   "id": "52546f4e",
   "metadata": {},
   "outputs": [],
   "source": [
    "# Now that our dataset is clean and set up, we are ready to look into some stats!\n",
    "# The describe() function returns the summary statistics for all the numeric columns:"
   ]
  },
  {
   "cell_type": "code",
   "execution_count": 85,
   "id": "81e4ab93",
   "metadata": {},
   "outputs": [
    {
     "name": "stdout",
     "output_type": "stream",
     "text": [
      "          Cases:\n",
      "count   8.000000\n",
      "mean   15.000000\n",
      "std    15.547163\n",
      "min     2.000000\n",
      "25%     3.000000\n",
      "50%     7.500000\n",
      "75%    25.250000\n",
      "max    42.000000\n"
     ]
    }
   ],
   "source": [
    "print(df.describe())"
   ]
  },
  {
   "cell_type": "code",
   "execution_count": 86,
   "id": "f4032b87",
   "metadata": {},
   "outputs": [],
   "source": [
    "# This function will show main statistics for the numeric columns, such as std, mean, min, max values, etc."
   ]
  },
  {
   "cell_type": "code",
   "execution_count": 87,
   "id": "a52aaf22",
   "metadata": {},
   "outputs": [],
   "source": [
    "# We can also get the summary stats for a single column, for example:"
   ]
  },
  {
   "cell_type": "code",
   "execution_count": 88,
   "id": "fdd527ed",
   "metadata": {},
   "outputs": [
    {
     "data": {
      "text/plain": [
       "count              8\n",
       "unique             1\n",
       "top       16-12-2021\n",
       "freq               8\n",
       "Name: Date:, dtype: object"
      ]
     },
     "execution_count": 88,
     "metadata": {},
     "output_type": "execute_result"
    }
   ],
   "source": [
    "df['Date:'].describe()"
   ]
  },
  {
   "cell_type": "code",
   "execution_count": 89,
   "id": "226097a8",
   "metadata": {},
   "outputs": [],
   "source": [
    "# Grouping:"
   ]
  },
  {
   "cell_type": "code",
   "execution_count": 90,
   "id": "20cb55cc",
   "metadata": {},
   "outputs": [
    {
     "data": {
      "text/plain": [
       "June        3\n",
       "February    2\n",
       "May         1\n",
       "April       1\n",
       "July        1\n",
       "Name: Month:, dtype: int64"
      ]
     },
     "execution_count": 90,
     "metadata": {},
     "output_type": "execute_result"
    }
   ],
   "source": [
    "df['Month:'].value_counts()"
   ]
  },
  {
   "cell_type": "code",
   "execution_count": 91,
   "id": "c461d297",
   "metadata": {},
   "outputs": [],
   "source": [
    "# We can see that, for example, June has only 3 records, while the other months have data for all days."
   ]
  },
  {
   "cell_type": "code",
   "execution_count": 92,
   "id": "f90dda4c",
   "metadata": {},
   "outputs": [],
   "source": [
    "# value_counts() returns how many times a value appears in the dataset, also called the frequency of the values."
   ]
  },
  {
   "cell_type": "code",
   "execution_count": 93,
   "id": "b40aa186",
   "metadata": {},
   "outputs": [],
   "source": [
    "# Now we can calculate data insights!\n",
    "# For example, let's determine the number of total infections in each month.\n",
    "# To do this, we need to group our data by the month column and then calculate the sum of the cases column for each month:"
   ]
  },
  {
   "cell_type": "code",
   "execution_count": 94,
   "id": "43e26198",
   "metadata": {},
   "outputs": [
    {
     "data": {
      "text/plain": [
       "Month:\n",
       "April       23\n",
       "February     6\n",
       "July         3\n",
       "June        46\n",
       "May         42\n",
       "Name: Cases:, dtype: int64"
      ]
     },
     "execution_count": 94,
     "metadata": {},
     "output_type": "execute_result"
    }
   ],
   "source": [
    "df.groupby('Month:')['Cases:'].sum()"
   ]
  },
  {
   "cell_type": "code",
   "execution_count": 95,
   "id": "b7b079af",
   "metadata": {},
   "outputs": [],
   "source": [
    "# The groupby() function is used to group our dataset by the given column.\n",
    "\n",
    "# We can also calculate the number of total cases in the entire year:"
   ]
  },
  {
   "cell_type": "code",
   "execution_count": 96,
   "id": "98454dfa",
   "metadata": {},
   "outputs": [
    {
     "data": {
      "text/plain": [
       "120"
      ]
     },
     "execution_count": 96,
     "metadata": {},
     "output_type": "execute_result"
    }
   ],
   "source": [
    "df['Cases:'].sum()"
   ]
  },
  {
   "cell_type": "code",
   "execution_count": 97,
   "id": "1057370c",
   "metadata": {},
   "outputs": [],
   "source": [
    "# We can see that California had 120 infection cases in 2021."
   ]
  },
  {
   "cell_type": "code",
   "execution_count": 98,
   "id": "2c4daf02",
   "metadata": {},
   "outputs": [],
   "source": [
    "# Similarly, we can use min(), max(), mean(), etc. to find the corresponding values for each group."
   ]
  },
  {
   "cell_type": "code",
   "execution_count": null,
   "id": "b6541186",
   "metadata": {},
   "outputs": [],
   "source": []
  },
  {
   "cell_type": "code",
   "execution_count": null,
   "id": "5ed6537e",
   "metadata": {},
   "outputs": [],
   "source": []
  },
  {
   "cell_type": "code",
   "execution_count": 437,
   "id": "d7dfcbf1",
   "metadata": {},
   "outputs": [],
   "source": [
    "#                                  😍 Congratulations Course Has Been Completed 😍"
   ]
  }
 ],
 "metadata": {
  "kernelspec": {
   "display_name": "Python 3",
   "language": "python",
   "name": "python3"
  },
  "language_info": {
   "codemirror_mode": {
    "name": "ipython",
    "version": 3
   },
   "file_extension": ".py",
   "mimetype": "text/x-python",
   "name": "python",
   "nbconvert_exporter": "python",
   "pygments_lexer": "ipython3",
   "version": "3.8.8"
  }
 },
 "nbformat": 4,
 "nbformat_minor": 5
}
